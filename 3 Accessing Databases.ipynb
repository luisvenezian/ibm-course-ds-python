{
 "cells": [
  {
   "cell_type": "code",
   "execution_count": 7,
   "metadata": {},
   "outputs": [
    {
     "name": "stdout",
     "output_type": "stream",
     "text": [
      "[(123,)]\n"
     ]
    }
   ],
   "source": [
    "import psycopg2\n",
    "con = psycopg2.connect(host='localhost', database='stack', user='postgres', password='senha123')\n",
    "cur = con.cursor()\n",
    "sql = 'SELECT 123 AS col'\n",
    "cur.execute(sql)\n",
    "recset = cur.fetchall()\n",
    "print(recset)\n",
    "con.commit() #End Transaction\n",
    "con.close() #End Con"
   ]
  },
  {
   "cell_type": "code",
   "execution_count": null,
   "metadata": {},
   "outputs": [],
   "source": []
  }
 ],
 "metadata": {
  "kernelspec": {
   "display_name": "Python 3",
   "language": "python",
   "name": "python3"
  },
  "language_info": {
   "codemirror_mode": {
    "name": "ipython",
    "version": 3
   },
   "file_extension": ".py",
   "mimetype": "text/x-python",
   "name": "python",
   "nbconvert_exporter": "python",
   "pygments_lexer": "ipython3",
   "version": "3.7.6"
  }
 },
 "nbformat": 4,
 "nbformat_minor": 4
}
